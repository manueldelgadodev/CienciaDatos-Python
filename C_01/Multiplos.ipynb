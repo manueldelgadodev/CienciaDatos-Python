{
  "nbformat": 4,
  "nbformat_minor": 0,
  "metadata": {
    "colab": {
      "provenance": [],
      "include_colab_link": true
    },
    "kernelspec": {
      "name": "python3",
      "display_name": "Python 3"
    },
    "language_info": {
      "name": "python"
    }
  },
  "cells": [
    {
      "cell_type": "markdown",
      "metadata": {
        "id": "view-in-github",
        "colab_type": "text"
      },
      "source": [
        "<a href=\"https://colab.research.google.com/github/manueldelgadodev/CienciaDatos-Python/blob/main/Multiplos.ipynb\" target=\"_parent\"><img src=\"https://colab.research.google.com/assets/colab-badge.svg\" alt=\"Open In Colab\"/></a>"
      ]
    },
    {
      "cell_type": "markdown",
      "source": [
        "Ejercicio 1\n",
        "Crea un programa que pida dos números enteros al usuario y diga si alguno de ellos es múltiplo del otro.\n"
      ],
      "metadata": {
        "id": "Qb7LUxMQ8sq1"
      }
    },
    {
      "cell_type": "code",
      "source": [
        "\n",
        "def verificarMultiplo(num1,num2):\n",
        "\n",
        "    if num1 % num2 == 0:\n",
        "        return f\"{num1} es múltiplo de {num2}\"\n",
        "    elif num2 % num1 == 0:\n",
        "        return f\"{num2} es múltiplo de {num1}\"\n",
        "    else:\n",
        "        return \"Ninguno de los números es múltiplo del otro\"\n",
        "\n",
        "\n",
        "number1 = int(input(\"Ingrese el primer número entero: \"))\n",
        "number2 = int(input(\"Ingrese el segundo número entero: \"))\n",
        "\n",
        "result = verificarMultiplo(number1, number2)\n",
        "print(result)\n"
      ],
      "metadata": {
        "id": "lS31pk8e80z7"
      },
      "execution_count": null,
      "outputs": []
    }
  ]
}